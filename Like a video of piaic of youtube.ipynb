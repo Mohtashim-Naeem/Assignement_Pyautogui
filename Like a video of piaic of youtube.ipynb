{
 "cells": [
  {
   "cell_type": "markdown",
   "id": "2bede9e9",
   "metadata": {},
   "source": [
    "Let's play with youtube"
   ]
  },
  {
   "cell_type": "code",
   "execution_count": 2,
   "id": "ec69c9b2",
   "metadata": {},
   "outputs": [],
   "source": [
    "import pyautogui"
   ]
  },
  {
   "cell_type": "code",
   "execution_count": 3,
   "id": "ad5b232d",
   "metadata": {},
   "outputs": [],
   "source": [
    "pyautogui.click(x=684, y=15, duration=1)\n",
    "pyautogui.click(x=493, y=133, duration=1)\n",
    "pyautogui.typewrite('Piaic', )\n",
    "pyautogui.click(x=952, y=134, duration=1)\n",
    "pyautogui.click(x=358, y=561, duration=1)\n",
    "pyautogui.click(x=264, y=459, duration=1)\n",
    "pyautogui.click(x=555, y=694, duration=1)"
   ]
  },
  {
   "cell_type": "code",
   "execution_count": null,
   "id": "2922fd6f",
   "metadata": {},
   "outputs": [],
   "source": []
  }
 ],
 "metadata": {
  "kernelspec": {
   "display_name": "Python 3 (ipykernel)",
   "language": "python",
   "name": "python3"
  },
  "language_info": {
   "codemirror_mode": {
    "name": "ipython",
    "version": 3
   },
   "file_extension": ".py",
   "mimetype": "text/x-python",
   "name": "python",
   "nbconvert_exporter": "python",
   "pygments_lexer": "ipython3",
   "version": "3.9.12"
  }
 },
 "nbformat": 4,
 "nbformat_minor": 5
}
